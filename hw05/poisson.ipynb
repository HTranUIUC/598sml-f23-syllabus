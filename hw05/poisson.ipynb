{
 "cells": [
  {
   "cell_type": "code",
   "execution_count": null,
   "id": "46a4157e-f7f0-4fe2-949c-19e55a303045",
   "metadata": {},
   "outputs": [],
   "source": [
    "import numpy as np\n",
    "import torch\n",
    "import torch.nn as nn\n",
    "import matplotlib.pyplot as plt"
   ]
  },
  {
   "cell_type": "markdown",
   "id": "6a3279ef-79e7-477d-a96c-985bdede3852",
   "metadata": {},
   "source": [
    "#### Make an exact solution and r.h.s."
   ]
  },
  {
   "cell_type": "code",
   "execution_count": null,
   "id": "9ab4ecb1-20fc-4974-a302-ada97fa48ee9",
   "metadata": {},
   "outputs": [],
   "source": [
    "def uexact(x, y):\n",
    "    u = torch.sin(2*torch.pi*x)*torch.sin(2*torch.pi*y)\n",
    "    return u\n",
    "\n",
    "def f(x, y):\n",
    "    return 8 * torch.pi**2 * uexact(x, y)"
   ]
  },
  {
   "cell_type": "code",
   "execution_count": null,
   "id": "561c0699-88cc-4535-b910-ed084fcef84d",
   "metadata": {},
   "outputs": [],
   "source": [
    "# try it out!\n",
    "x, y = torch.meshgrid(torch.linspace(0, 1, 100),\n",
    "                      torch.linspace(0, 1, 100), indexing='ij')\n",
    "plt.pcolormesh(x, y, uexact(x,  y))"
   ]
  },
  {
   "cell_type": "markdown",
   "id": "922a5108-6472-47ce-841e-2a184025322a",
   "metadata": {},
   "source": [
    "#### neural network"
   ]
  },
  {
   "cell_type": "code",
   "execution_count": null,
   "id": "fda881b4-57cb-45c4-bd2a-be1ddec461c8",
   "metadata": {},
   "outputs": [],
   "source": [
    "class ffnn(nn.Module):\n",
    "    def __init__(self, nn_width, num_hidden):\n",
    "        super().__init__()\n",
    "        \n",
    "        self.layer_first = nn.Linear(2, nn_width)\n",
    "        \n",
    "        layers = []\n",
    "        for _ in range(num_hidden):\n",
    "            layers.append(nn.Linear(nn_width, nn_width))\n",
    "        self.layer_hidden = nn.ModuleList(layers)\n",
    "        \n",
    "        self.layer_last = nn.Linear(nn_width, 1)\n",
    "        \n",
    "    def forward(self, x, y):\n",
    "        xt = torch.cat([x, y], dim=1)\n",
    "        activation = nn.Tanh()\n",
    "        u = activation(self.layer_first(xt))\n",
    "        for hidden in self.layer_hidden:\n",
    "            u = activation(hidden(u))\n",
    "        u = self.layer_last(u)\n",
    "        return u"
   ]
  },
  {
   "cell_type": "markdown",
   "id": "8186ee01-be47-4279-9894-ec64295702bb",
   "metadata": {},
   "source": [
    "#### Create the model and set the optimizer"
   ]
  },
  {
   "cell_type": "code",
   "execution_count": null,
   "id": "89920401-6d63-4182-946b-d8b2fe3f6e4a",
   "metadata": {},
   "outputs": [],
   "source": [
    "torch.manual_seed(23447)\n",
    "model = ffnn(60, 4)\n",
    "\n",
    "lr = 0.001\n",
    "opt = torch.optim.Adam(model.parameters(), lr)\n",
    "n_epochs = 5000\n",
    "loss_history = []"
   ]
  },
  {
   "cell_type": "markdown",
   "id": "08ed5c91-20e7-4782-9166-1d2b90c849ef",
   "metadata": {},
   "source": [
    "#### Defining the loss"
   ]
  },
  {
   "cell_type": "code",
   "execution_count": null,
   "id": "af3b5379-3958-4efd-9a01-2fbc7c6d64c3",
   "metadata": {},
   "outputs": [],
   "source": [
    "def loss_int(model, x, y):\n",
    "    xt = torch.tensor(x, requires_grad=True).reshape(-1, 1)\n",
    "    yt = torch.tensor(y, requires_grad=True).reshape(-1, 1)\n",
    "    # TODO\n",
    "\n",
    "def loss_bdy(model, x, y):\n",
    "    # TODO"
   ]
  },
  {
   "cell_type": "markdown",
   "id": "4f42c4e3-82c7-4757-948b-d746b0c86790",
   "metadata": {},
   "source": [
    "### Train the model"
   ]
  },
  {
   "cell_type": "code",
   "execution_count": null,
   "id": "daad4673-8201-4ce3-a2fc-722aa30bf9d6",
   "metadata": {},
   "outputs": [],
   "source": [
    "for i in range(n_epochs):\n",
    "    loss = loss_int(model, x, y) + loss_bdy(model, x, y)\n",
    "    opt.zero_grad()\n",
    "    loss_history.append(loss.item())\n",
    "    \n",
    "    loss.backward()\n",
    "    opt.step()\n",
    "\n",
    "    if i % 100 == 0:\n",
    "        print(f'epoch {i}, loss = {loss}')"
   ]
  },
  {
   "cell_type": "markdown",
   "id": "f46869a6-f5fe-4ffa-bb09-54ab889c2800",
   "metadata": {},
   "source": [
    "#### Plot the loss"
   ]
  },
  {
   "cell_type": "markdown",
   "id": "6f2de122-9c10-48de-a47d-fc705d9615b1",
   "metadata": {},
   "source": [
    "#### Plot the solution and error"
   ]
  },
  {
   "cell_type": "code",
   "execution_count": null,
   "id": "934cfbe0-e044-47bd-94d4-d366327f1a46",
   "metadata": {},
   "outputs": [],
   "source": []
  }
 ],
 "metadata": {
  "kernelspec": {
   "display_name": "Python 3 (ipykernel)",
   "language": "python",
   "name": "python3"
  },
  "language_info": {
   "codemirror_mode": {
    "name": "ipython",
    "version": 3
   },
   "file_extension": ".py",
   "mimetype": "text/x-python",
   "name": "python",
   "nbconvert_exporter": "python",
   "pygments_lexer": "ipython3",
   "version": "3.10.13"
  }
 },
 "nbformat": 4,
 "nbformat_minor": 5
}
