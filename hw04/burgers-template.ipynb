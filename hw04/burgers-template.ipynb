{
 "cells": [
  {
   "cell_type": "code",
   "execution_count": 1,
   "id": "ccadb869-527d-4936-982a-e50fb286ff7e",
   "metadata": {},
   "outputs": [],
   "source": [
    "import numpy as np\n",
    "import matplotlib.pyplot as plt"
   ]
  },
  {
   "cell_type": "code",
   "execution_count": null,
   "id": "7a7f9ace-6d30-402e-9476-d14fa733a084",
   "metadata": {},
   "outputs": [],
   "source": [
    "T = 1.0\n",
    "nu = 0*0.01 / np.pi\n",
    "\n",
    "nx = 100\n",
    "x, hx = np.linspace(-1, 1, nx, retstep=True)\n",
    "\n",
    "# need 2 * sqrt(nu) * ht < hx**2\n",
    "gamma = 0.95\n",
    "if nu > 0:\n",
    "    ht = hx**2 / (2*np.sqrt(nu)) * gamma\n",
    "else:\n",
    "    ht = gamma * hx\n",
    "nt = int(T/ht)\n",
    "print(f'             T = {T}')\n",
    "print(f'        tsteps = {nt}')\n",
    "print(f'            hx = {hx}')\n",
    "print(f'            ht = {ht}')\n",
    "print(f'         gamma = {gamma}')\n",
    "print(f'            nu = {nu}')\n",
    "print(f' 2 sqrt(nu) ht = {2 * np.sqrt(nu) * ht}')\n",
    "print(f'        hxx**2 = {hx**2}')\n",
    "\n",
    "def uinit(x):\n",
    "    return -np.sin(np.pi * x)\n",
    "\n",
    "J = np.arange(1, nx-1)\n",
    "Jp1 = np.arange(2, nx)\n",
    "Jm1 = np.arange(0, nx-2)\n",
    "\n",
    "u = uinit(x)\n",
    "#plt.plot(x, u, lw=3, color='tab:blue')\n",
    "\n",
    "def f(u):\n",
    "    return u**2/2\n",
    "\n",
    "def fprime(u):\n",
    "    return u"
   ]
  }
 ],
 "metadata": {
  "kernelspec": {
   "display_name": "Python 3 (ipykernel)",
   "language": "python",
   "name": "python3"
  },
  "language_info": {
   "codemirror_mode": {
    "name": "ipython",
    "version": 3
   },
   "file_extension": ".py",
   "mimetype": "text/x-python",
   "name": "python",
   "nbconvert_exporter": "python",
   "pygments_lexer": "ipython3",
   "version": "3.10.12"
  }
 },
 "nbformat": 4,
 "nbformat_minor": 5
}
